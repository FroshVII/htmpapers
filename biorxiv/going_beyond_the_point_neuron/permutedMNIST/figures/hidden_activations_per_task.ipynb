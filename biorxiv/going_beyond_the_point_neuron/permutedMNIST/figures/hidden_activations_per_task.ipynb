{
  "nbformat": 4,
  "nbformat_minor": 0,
  "metadata": {
    "colab": {
      "name": "Untitled1.ipynb",
      "provenance": []
    },
    "kernelspec": {
      "name": "python3",
      "display_name": "Python 3"
    },
    "language_info": {
      "name": "python"
    }
  },
  "cells": [
    {
      "cell_type": "markdown",
      "metadata": {
        "id": "GF_6NV1AsBq1"
      },
      "source": [
        "**Plotting function**\n",
        "\n",
        "The function defined here takes `activations`, `task_labels` and and generates a heatmap that gives the fraction of examples across each task for which each unit is \"on\" after k-Winners."
      ]
    },
    {
      "cell_type": "code",
      "metadata": {
        "id": "nM_-MgdrraC-"
      },
      "source": [
        "import numpy as np\n",
        "import torch\n",
        "\n",
        "import matplotlib.pyplot as plt\n",
        "plt.rcParams.update({'font.size': 16})\n",
        "\n",
        "\n",
        "def plot(activations, task_labels):\n",
        "\n",
        "    # STEP 1: compute the array that we're going to plot\n",
        "    with torch.no_grad():\n",
        "        device = activations.device\n",
        "        num_tasks = 1 + task_labels.max().item()\n",
        "        _, num_units = activations.size()\n",
        "        h = torch.zeros((0, num_units))\n",
        "        h = h.to(device)\n",
        "        for t in range(num_tasks):\n",
        "            inds_t = torch.nonzero((task_labels == t).float(), as_tuple=True)\n",
        "            h_t = activations[inds_t]\n",
        "            h_t = (h_t != 0).float()\n",
        "            h_t = h_t.mean(dim=0)\n",
        "            h_t = h_t.unsqueeze(0)\n",
        "            h = torch.cat((h, h_t))\n",
        "\n",
        "    # STEP 2: plotting\n",
        "    NUM_UNITS_TO_PLOT = 64\n",
        "    h = h[:, :NUM_UNITS_TO_PLOT]\n",
        "    h = h.detach().cpu().numpy()\n",
        "\n",
        "    max_val = np.abs(h).max()\n",
        "    plt.imshow(h, cmap=\"Greens\", vmin=0.0, vmax=max_val)\n",
        "\n",
        "    plt.xlabel(\"Hidden unit\")\n",
        "    plt.ylabel(\"Task\")\n",
        "\n",
        "    # These next 2 lines stretch the figure vertically\n",
        "    ax = plt.gca()\n",
        "    ax.set_aspect(2.5)\n",
        "\n",
        "    ax.get_yaxis().set_ticks(range(0, 10))\n",
        "    \n",
        "    plt.tight_layout()\n",
        "    plt.show()"
      ],
      "execution_count": 3,
      "outputs": []
    },
    {
      "cell_type": "markdown",
      "metadata": {
        "id": "ZTlDCBm3r8ly"
      },
      "source": [
        "**Generating plots with saved data**\n",
        "\n",
        "The centroid script outputs `.pt` files which represent the activations and task labels. Specify these below to generate plots. Make sure that the 'key' in the file name is the same for both the activations and task labels."
      ]
    },
    {
      "cell_type": "code",
      "metadata": {
        "colab": {
          "base_uri": "https://localhost:8080/",
          "height": 213
        },
        "id": "_-iJ_zgOrflL",
        "outputId": "8c109128-1d59-4084-a2ba-ea41d6f92e19"
      },
      "source": [
        "if __name__ == \"__main__\":\n",
        "\n",
        "    # Load activations and task labels, then plot\n",
        "\n",
        "    # NOTE: the user must edit the key below\n",
        "    key = \"abcd\"\n",
        "\n",
        "    activations = torch.load(f\"x_10__activations.1_{key}.pt\", map_location=torch.device(\"cpu\"))\n",
        "    task_labels = torch.load(f\"y_10__activations.1_{key}.pt\", map_location=torch.device(\"cpu\"))\n",
        "\n",
        "    plt.cla()\n",
        "    plot(activations, task_labels)"
      ],
      "execution_count": 6,
      "outputs": [
        {
          "output_type": "display_data",
          "data": {
            "image/png": "[encoded data removed]",
            "text/plain": [
              "<Figure size 432x288 with 1 Axes>"
            ]
          },
          "metadata": {
            "needs_background": "light"
          }
        }
      ]
    }
  ]
}
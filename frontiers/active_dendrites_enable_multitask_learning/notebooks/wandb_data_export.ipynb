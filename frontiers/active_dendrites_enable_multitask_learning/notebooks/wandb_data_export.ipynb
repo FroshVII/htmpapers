{
 "metadata": {
  "language_info": {
   "codemirror_mode": {
    "name": "ipython",
    "version": 3
   },
   "file_extension": ".py",
   "mimetype": "text/x-python",
   "name": "python",
   "nbconvert_exporter": "python",
   "pygments_lexer": "ipython3",
   "version": "3.7.3"
  },
  "orig_nbformat": 4,
  "kernelspec": {
   "name": "python3",
   "display_name": "Python 3.7.3 64-bit ('embodiedai': conda)"
  },
  "interpreter": {
   "hash": "40a2e8d6e8389b8be157efa5568269f15578dc1e6cfd584277ec08b562b7e82d"
  }
 },
 "nbformat": 4,
 "nbformat_minor": 2,
 "cells": [
  {
   "cell_type": "code",
   "execution_count": 23,
   "metadata": {},
   "outputs": [],
   "source": [
    "from collections import defaultdict\n",
    "import pandas as pd\n",
    "import numpy as np\n",
    "\n",
    "import wandb\n",
    "api = wandb.Api()"
   ]
  },
  {
   "cell_type": "code",
   "execution_count": 32,
   "metadata": {},
   "outputs": [
    {
     "output_type": "execute_result",
     "data": {
      "text/plain": [
       "(19, 18)"
      ]
     },
     "metadata": {},
     "execution_count": 32
    }
   ],
   "source": [
    "entity, project = \"nupic-research\", \"multitask_journal\"\n",
    "metric = \"SuccessRate\"\n",
    "tasks = [\n",
    "    \"Average\",\n",
    "    \"button-press-topdown-v2\",\n",
    "    \"door-open-v2\",\n",
    "    \"drawer-close-v2\",\n",
    "    \"drawer-open-v2\",\n",
    "    \"peg-insert-side-v2\",\n",
    "    \"pick-place-v2\",\n",
    "    \"push-v2\",\n",
    "    \"reach-v2\",\n",
    "    \"window-close-v2\",\n",
    "    \"window-open-v2\"\n",
    "]\n",
    "tasks_all_data = [\"Average\"]\n",
    "runs_to_ignore = [\"clzl304\", \"phhk331\"]\n",
    "\n",
    "def collect_runs(state_filter=\"finished\", mv_avg_window=10):\n",
    "\n",
    "    runs = api.runs(entity + \"/\" + project) \n",
    "    data = defaultdict(list)\n",
    "    for idx, run in enumerate(runs): \n",
    "        if  (run.state == state_filter\n",
    "            and (\"wandb_group\" in run.config and run.config[\"wandb_group\"] == \"Strategy 1\")\n",
    "            and run.id not in runs_to_ignore):\n",
    "                # -- Collect main config\n",
    "                # .name is the human-readable name of the run.\n",
    "                data[\"id\"].append(run.id)            \n",
    "                data[\"name\"].append(run.name)\n",
    "                # .summary contains the output keys/values for metrics like accuracy.\n",
    "                #  We call ._json_dict to omit large files \n",
    "                data[\"summary\"].append(run.summary._json_dict)\n",
    "                # .config contains the hyperparameters.\n",
    "                #  We remove special values that start with _.\n",
    "                data[\"config\"].append(\n",
    "                    {k: v for k,v in run.config.items()\n",
    "                    if not k.startswith('_')})\n",
    "                # pick and choose specific attributes from config\n",
    "                data[\"net_type\"].append(run.config[\"net_type\"])\n",
    "\n",
    "                if \"wandb_group\" in run.config:\n",
    "                    data[\"group\"].append(run.config[\"wandb_group\"])\n",
    "                else:\n",
    "                    data[\"group\"].append(None)        \n",
    "\n",
    "                # -- Collect success rate\n",
    "                keys = [f\"{task}/{metric}\" for task in tasks]\n",
    "                history = run.scan_history(keys=keys)\n",
    "                for key, task in zip(keys, tasks):\n",
    "                    values = [row[key] for row in history]\n",
    "                    data[task].append(np.mean(values[-mv_avg_window:]))\n",
    "                    # exception for the Average\n",
    "                    if task in tasks_all_data:\n",
    "                        data[f\"{task}_fullhist\"].append(values)\n",
    "\n",
    "    return pd.DataFrame(data)\n",
    "\n",
    "runs_df = collect_runs()\n",
    "runs_df.shape"
   ]
  },
  {
   "cell_type": "code",
   "execution_count": 34,
   "metadata": {},
   "outputs": [],
   "source": [
    "runs_df.to_pickle(\"data_for_plots_1_and_3.p\")"
   ]
  },
  {
   "cell_type": "code",
   "execution_count": 42,
   "metadata": {},
   "outputs": [
    {
     "output_type": "execute_result",
     "data": {
      "text/plain": [
       "(49, 8)"
      ]
     },
     "metadata": {},
     "execution_count": 42
    }
   ],
   "source": [
    "entity, project = \"nupic-research\", \"multitask_journal\"\n",
    "metric = \"SuccessRate\"\n",
    "tasks = [\n",
    "    \"Average\",\n",
    "    \"button-press-topdown-v2\",\n",
    "    \"door-open-v2\",\n",
    "    \"drawer-close-v2\",\n",
    "    \"drawer-open-v2\",\n",
    "    \"peg-insert-side-v2\",\n",
    "    \"pick-place-v2\",\n",
    "    \"push-v2\",\n",
    "    \"reach-v2\",\n",
    "    \"window-close-v2\",\n",
    "    \"window-open-v2\"\n",
    "]\n",
    "tasks_all_data = [\"Average\"]\n",
    "runs_to_ignore = [\"clzl304\", \"phhk331\"]\n",
    "\n",
    "def collect_runs_plot2(state_filter=\"finished\", mv_avg_window=10):\n",
    "\n",
    "    runs = api.runs(entity + \"/\" + project) \n",
    "    data = defaultdict(list)\n",
    "    for idx, run in enumerate(runs): \n",
    "        if  (run.state == state_filter\n",
    "            and ((\"wandb_group\" in run.config and run.config[\"wandb_group\"] != \"Strategy 1\")\n",
    "                  or \"wandb_group\" not in run.config)\n",
    "            and run.id not in runs_to_ignore):\n",
    "                # -- Collect main config\n",
    "                # .name is the human-readable name of the run.\n",
    "                data[\"id\"].append(run.id)            \n",
    "                data[\"name\"].append(run.name)\n",
    "                # .summary contains the output keys/values for metrics like accuracy.\n",
    "                #  We call ._json_dict to omit large files \n",
    "                data[\"summary\"].append(run.summary._json_dict)\n",
    "                # .config contains the hyperparameters.\n",
    "                #  We remove special values that start with _.\n",
    "                data[\"config\"].append(\n",
    "                    {k: v for k,v in run.config.items()\n",
    "                    if not k.startswith('_')})\n",
    "                # pick and choose specific attributes from config\n",
    "                data[\"net_type\"].append(run.config[\"net_type\"])\n",
    "\n",
    "                if \"wandb_group\" in run.config:\n",
    "                    data[\"group\"].append(run.config[\"wandb_group\"])\n",
    "                else:\n",
    "                    data[\"group\"].append(None)        \n",
    "\n",
    "                # -- Collect success rate for average only\n",
    "                history = run.scan_history(keys=[\"Average/SuccessRate\"])\n",
    "                values = [row[\"Average/SuccessRate\"] for row in history]\n",
    "                data[\"Average\"].append(np.mean(values[-mv_avg_window:]))\n",
    "                data[\"Average_fullhist\"].append(values)\n",
    "\n",
    "    return pd.DataFrame(data)\n",
    "\n",
    "runs_df2 = collect_runs_plot2()\n",
    "runs_df2.shape\n",
    "\n",
    "ids_list = []\n",
    "for name in runs_df2.name.unique():\n",
    "    argmax = runs_df2[runs_df2[\"name\"] == name][\"Average\"].argmax()\n",
    "    ids_list.append(runs_df2[runs_df2[\"name\"] == name].iloc[argmax].id)\n",
    "\n",
    "ids_filter = runs_df2.id.isin(ids_list)\n",
    "plot2_df = runs_df2[ids_filter]\n",
    "\n",
    "runs_df2.shape, plot2_df.shape"
   ]
  },
  {
   "cell_type": "code",
   "execution_count": 82,
   "metadata": {},
   "outputs": [],
   "source": [
    "plot2_df.to_pickle(\"data_for_plots_2.p\")"
   ]
  },
  {
   "cell_type": "code",
   "execution_count": 22,
   "metadata": {},
   "outputs": [],
   "source": [
    "def get_run(run_id):\n",
    "    entity, project = \"nupic-research\", \"multitask\"\n",
    "    return api.run(entity + \"/\" + project + \"/\" + run_id) \n",
    "\n",
    "run_id = \"hcob816\"\n",
    "run = get_run(run_id)\n",
    "# entity, project = \"nupic-research\", \"multitask\"\n",
    "# runs = api.runs(entity + \"/\" + project) \n",
    "# f = run.files()[10]\n",
    "# f.name\n",
    "# f.download()"
   ]
  },
  {
   "cell_type": "code",
   "execution_count": 38,
   "metadata": {},
   "outputs": [],
   "source": [
    "def get_run(run_id):\n",
    "    entity, project = \"nupic-research\", \"multitask\"\n",
    "    return api.run(entity + \"/\" + project + \"/\" + run_id) \n",
    "\n",
    "run_id = \"kidg700\"\n",
    "run = get_run(run_id)"
   ]
  }
 ]
}